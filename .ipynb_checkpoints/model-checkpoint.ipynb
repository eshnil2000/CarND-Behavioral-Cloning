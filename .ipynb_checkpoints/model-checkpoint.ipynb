{
 "cells": [
  {
   "cell_type": "code",
   "execution_count": null,
   "metadata": {},
   "outputs": [],
   "source": [
    "###READ IN THE LOG FILE\n",
    "import csv\n",
    "import cv2\n",
    "import numpy as np\n",
    "import sklearn\n",
    "lines=[]\n",
    "imagePaths=[]\n",
    "measurements=[]\n",
    "\n",
    "with open('recordings/driving_log.csv') as csvfile:\n",
    "    reader=csv.reader(csvfile)\n",
    "    for line in reader:\n",
    "        lines.append(line)\n",
    "        imagePaths.append(line[0])\n",
    "        measurements.append(float(line[3]))"
   ]
  },
  {
   "cell_type": "code",
   "execution_count": 2,
   "metadata": {},
   "outputs": [],
   "source": [
    "###SETUP GENERATOR FUNCTION TO STREAM DATA INSTEAD OF PRE-LOADING INTO MEMORY\n",
    "def generator(samples, batch_size=128):\n",
    "\n",
    "    num_samples = len(samples)\n",
    "    while 1: # Loop forever so the generator never terminates\n",
    "        ###Shuffle the samples so as to remove any sequential data bias\n",
    "        samples = sklearn.utils.shuffle(samples)\n",
    "        for offset in range(0, num_samples, batch_size):\n",
    "            batch_samples = samples[offset:offset+batch_size]\n",
    "\n",
    "            images = []\n",
    "            angles = []\n",
    "            for imagePath, measurement in batch_samples:\n",
    "                ###READ IN IMAGES, CONVERT TO RGB SPACE\n",
    "                originalImage = cv2.imread(imagePath)\n",
    "                image = cv2.cvtColor(originalImage, cv2.COLOR_BGR2RGB)\n",
    "                images.append(image)\n",
    "                angles.append(measurement)\n",
    "                # Augment the original image by Fliping it\n",
    "                images.append(cv2.flip(image,1))\n",
    "                # Since image is flipped, flip the steering direction output as well\n",
    "                angles.append(measurement*-1.0)\n",
    "\n",
    "            \n",
    "            inputs = np.array(images)\n",
    "            outputs = np.array(angles)\n",
    "            ###Yield data via generator\n",
    "            yield sklearn.utils.shuffle(inputs, outputs)"
   ]
  },
  {
   "cell_type": "code",
   "execution_count": 3,
   "metadata": {},
   "outputs": [
    {
     "name": "stdout",
     "output_type": "stream",
     "text": [
      "Train samples: 10072\n",
      "Validation samples: 2519\n"
     ]
    }
   ],
   "source": [
    "# Splitting samples into training & validation, use 20% of data for validation\n",
    "from sklearn.model_selection import train_test_split\n",
    "samples = list(zip(imagePaths, measurements))\n",
    "train_samples, validation_samples = train_test_split(samples, test_size=0.2)\n",
    "\n",
    "print('Train samples: {}'.format(len(train_samples)))\n",
    "print('Validation samples: {}'.format(len(validation_samples)))\n"
   ]
  },
  {
   "cell_type": "code",
   "execution_count": 4,
   "metadata": {},
   "outputs": [],
   "source": [
    "#setup generators, feed data in batches of 32 images to conserve memory\n",
    "train_generator = generator(train_samples, batch_size=32)\n",
    "validation_generator = generator(validation_samples, batch_size=32)"
   ]
  },
  {
   "cell_type": "code",
   "execution_count": 5,
   "metadata": {},
   "outputs": [
    {
     "name": "stderr",
     "output_type": "stream",
     "text": [
      "Using TensorFlow backend.\n"
     ]
    }
   ],
   "source": [
    "#DEFINE THE MODEL\n",
    "from keras.models import Sequential\n",
    "from keras.layers import Dense, Dropout, Flatten, Lambda, ELU,Cropping2D\n",
    "from keras.layers.convolutional import Convolution2D\n",
    "\n",
    "###INITIALIZE Keras sequential model\n",
    "model = Sequential()\n",
    "###Pre-process the data, center the data\n",
    "model.add(Lambda(lambda x:x/127.5-1,input_shape=(160,320,3) ))\n",
    "###Crop the images to remove extraneous information, focus on the immediate road ahead\n",
    "model.add(Cropping2D(cropping=((70,25), (0,0)), input_shape=(160,320,3)))\n",
    "###USE THE MODEL DEFINED IN COMMA.AI Steering model\n",
    "#https://github.com/commaai/research/blob/master/train_steering_model.py\n",
    "model.add(Convolution2D(16, 8, 8, subsample=(4, 4), border_mode=\"same\"))\n",
    "model.add(ELU())\n",
    "model.add(Convolution2D(32, 5, 5, subsample=(2, 2), border_mode=\"same\"))\n",
    "model.add(ELU())\n",
    "model.add(Convolution2D(64, 5, 5, subsample=(2, 2), border_mode=\"same\"))\n",
    "model.add(Flatten())\n",
    "model.add(Dropout(.2))\n",
    "model.add(ELU())\n",
    "model.add(Dense(512))\n",
    "model.add(Dropout(.5))\n",
    "model.add(ELU())\n",
    "model.add(Dense(1))\n",
    "###END COMMA.AI MODEL\n",
    "###COMPILE USING ADAM OPTIMIZER, SO THAT LEARNING RATE DOESNT HAVE TO BE SET MANUALLY\n",
    "model.compile(optimizer=\"adam\", loss=\"mse\")\n",
    "\n"
   ]
  },
  {
   "cell_type": "code",
   "execution_count": 6,
   "metadata": {},
   "outputs": [
    {
     "name": "stdout",
     "output_type": "stream",
     "text": [
      "Epoch 1/3\n",
      "10048/10072 [============================>.] - ETA: 0s - loss: 0.2188"
     ]
    },
    {
     "name": "stderr",
     "output_type": "stream",
     "text": [
      "/anaconda3/envs/carnd-term1/lib/python3.5/site-packages/keras/engine/training.py:1569: UserWarning: Epoch comprised more than `samples_per_epoch` samples, which might affect learning results. Set `samples_per_epoch` correctly to avoid this warning.\n",
      "  warnings.warn('Epoch comprised more than '\n"
     ]
    },
    {
     "name": "stdout",
     "output_type": "stream",
     "text": [
      "10112/10072 [==============================] - 144s - loss: 0.2180 - val_loss: 0.0917\n",
      "Epoch 2/3\n",
      "10096/10072 [==============================] - 148s - loss: 0.0987 - val_loss: 0.0946\n",
      "Epoch 3/3\n",
      "10112/10072 [==============================] - 163s - loss: 0.0816 - val_loss: 0.0800\n",
      "dict_keys(['val_loss', 'loss'])\n",
      "Loss\n",
      "[0.21801690028721019, 0.098703703263009979, 0.081597972519790077]\n",
      "Validation Loss\n",
      "[0.091725070681422952, 0.094586623162851852, 0.079978477954864499]\n"
     ]
    }
   ],
   "source": [
    "###FEED THE GENERATOR DATA TO THE MODEL, TRAIN\n",
    "### 3 epochs was sufficient, beyond that, seemed to overfit\n",
    "history_object = model.fit_generator(train_generator, samples_per_epoch= \\\n",
    "                 len(train_samples), validation_data=validation_generator, \\\n",
    "                 nb_val_samples=len(validation_samples), nb_epoch=3, verbose=1)\n",
    "###save the trained model\n",
    "model.save('model.h5')\n",
    "print(history_object.history.keys())\n",
    "print('Loss')\n",
    "print(history_object.history['loss'])\n",
    "print('Validation Loss')\n",
    "print(history_object.history['val_loss'])"
   ]
  },
  {
   "cell_type": "code",
   "execution_count": 2,
   "metadata": {},
   "outputs": [
    {
     "data": {
      "text/plain": [
       "True"
      ]
     },
     "execution_count": 2,
     "metadata": {},
     "output_type": "execute_result"
    }
   ],
   "source": [
    "import csv\n",
    "import cv2\n",
    "import numpy as np\n",
    "import sklearn\n",
    "imagePath='flip.jpg'\n",
    "originalImage = cv2.imread(imagePath)\n",
    "#image = cv2.cvtColor(originalImage, cv2.COLOR_BGR2RGB)\n",
    "newImage=cv2.flip(originalImage,1)\n",
    "cv2.imwrite('flipped.jpg',newImage)\n"
   ]
  },
  {
   "cell_type": "code",
   "execution_count": null,
   "metadata": {},
   "outputs": [],
   "source": []
  }
 ],
 "metadata": {
  "kernelspec": {
   "display_name": "Python 3",
   "language": "python",
   "name": "python3"
  },
  "language_info": {
   "codemirror_mode": {
    "name": "ipython",
    "version": 3
   },
   "file_extension": ".py",
   "mimetype": "text/x-python",
   "name": "python",
   "nbconvert_exporter": "python",
   "pygments_lexer": "ipython3",
   "version": "3.5.2"
  },
  "widgets": {
   "state": {},
   "version": "1.1.2"
  }
 },
 "nbformat": 4,
 "nbformat_minor": 2
}
